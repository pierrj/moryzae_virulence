{
  "cells": [
    {
      "cell_type": "code",
      "execution_count": null,
      "metadata": {
        "id": "wruc5YyXiETp"
      },
      "outputs": [],
      "source": [
        "#Install prerequisits\n",
        "!pip install torch==1.12.1+cu116 torchvision==0.13.1+cu116 torchaudio==0.12.1 torchtext --extra-index-url https://download.pytorch.org/whl/cu116\n",
        "!pip install pymc arviz chex cvxpy flax librosa pydantic tweepy fairscale hydra-core omegaconf pandas wandb==0.12.21 pytorch_lightning==1.5.10 biopython==1.79 ml-collections==0.1.0 einops typing-extensions==3.10.0.2 deepspeed==0.5.9 dm-tree==0.1.6 numpy==1.21.2 PyYAML==5.4.1 requests scipy==1.7.1 tqdm==4.62.2\n",
        "!pip install git+https://github.com/NVIDIA/dllogger.git\n",
        "\n",
        "!pip install fair-esm\n",
        "!pip install \"fair-esm[esmfold]\"\n",
        "\n",
        "# OpenFold and its remaining dependency\n",
        "!pip install 'dllogger @ git+https://github.com/NVIDIA/dllogger.git'\n",
        "!pip install 'openfold @ git+https://github.com/aqlaboratory/openfold.git@4b41059694619831a7db195b7e0988fc4ff3a307'"
      ]
    },
    {
      "cell_type": "code",
      "execution_count": null,
      "metadata": {
        "id": "0V8xnl8BkEwY"
      },
      "outputs": [],
      "source": [
        "#Access google drive\n",
        "from google.colab import drive\n",
        "import os\n",
        "\n",
        "drive.mount('/content/drive')\n",
        "os.chdir('/content/drive/MyDrive/MO_Comp_Genomics/esmfold')"
      ]
    },
    {
      "cell_type": "code",
      "execution_count": null,
      "metadata": {
        "id": "QbxFm5SskYkb"
      },
      "outputs": [],
      "source": [
        "#read fasta file\n",
        "from Bio import SeqIO\n",
        "\n",
        "fasta_file = \"rerun.fasta\"\n",
        "\n",
        "records = list(SeqIO.parse(fasta_file, \"fasta\"))\n",
        "\n",
        "# Sort the sequences by length\n",
        "records_sorted = sorted(records, key=lambda x: len(x.seq), reverse=True )"
      ]
    },
    {
      "cell_type": "code",
      "execution_count": null,
      "metadata": {
        "id": "aZGZVU7Uj6a7"
      },
      "outputs": [],
      "source": [
        "import torch\n",
        "import esm\n",
        "\n",
        "model = esm.pretrained.esmfold_v1()\n",
        "model = model.eval().cuda()"
      ]
    },
    {
      "cell_type": "code",
      "execution_count": null,
      "metadata": {
        "colab": {
          "background_save": true
        },
        "id": "bWq_CNxylBQl",
        "collapsed": true
      },
      "outputs": [],
      "source": [
        "#Iterate each record and predict the structure\n",
        "model.set_chunk_size(256)\n",
        "for i, record in enumerate(records_sorted):\n",
        "  seqID  = str(record.id)\n",
        "  seqLen = len(str(record.seq))\n",
        "\n",
        "  #check if the protein structure exists\n",
        "  if f'{seqID}.pdb' not in os.listdir():\n",
        "    if seqLen <= 1000:\n",
        "      with torch.no_grad():\n",
        "        output = model.infer_pdb(str(record.seq))\n",
        "\n",
        "      with open(f'{seqID}.pdb', 'w') as f:\n",
        "        f.write(output)\n",
        "      torch.cuda.empty_cache()"
      ]
    }
  ],
  "metadata": {
    "accelerator": "GPU",
    "colab": {
      "machine_shape": "hm",
      "provenance": []
    },
    "gpuClass": "premium",
    "kernelspec": {
      "display_name": "Python 3",
      "name": "python3"
    },
    "language_info": {
      "name": "python"
    }
  },
  "nbformat": 4,
  "nbformat_minor": 0
}